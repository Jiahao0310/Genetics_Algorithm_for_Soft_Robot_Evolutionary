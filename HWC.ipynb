{
 "cells": [
  {
   "cell_type": "code",
   "execution_count": 1,
   "metadata": {
    "ExecuteTime": {
     "end_time": "2020-10-23T11:40:25.693561Z",
     "start_time": "2020-10-23T11:40:24.916522Z"
    }
   },
   "outputs": [
    {
     "name": "stdout",
     "output_type": "stream",
     "text": [
      "open3d :0.11.0\n"
     ]
    }
   ],
   "source": [
    "#######\n",
    "## if you are unfamiliar with jupyter notebook, take a look at this tutorial\n",
    "## https://www.dataquest.io/blog/jupyter-notebook-tutorial/\n",
    "##\n",
    "## make sure all dependencies are installed\n",
    "\n",
    "import open3d as o3d # http://www.open3d.org/\n",
    "import numpy as np\n",
    "import time\n",
    "import random\n",
    "import matplotlib.pyplot as plt\n",
    "import math\n",
    "import multiprocessing\n",
    "from joblib import Parallel, delayed\n",
    "import pandas\n",
    "import seaborn as sns\n",
    "import xlwt\n",
    "from tempfile import TemporaryFile\n",
    "print(f\"open3d :{o3d.__version__}\")"
   ]
  },
  {
   "cell_type": "code",
   "execution_count": 2,
   "metadata": {},
   "outputs": [
    {
     "name": "stdout",
     "output_type": "stream",
     "text": [
      "3.8.3\n"
     ]
    }
   ],
   "source": [
    "import platform\n",
    "print(platform.python_version())"
   ]
  },
  {
   "cell_type": "code",
   "execution_count": 3,
   "metadata": {
    "ExecuteTime": {
     "end_time": "2020-10-23T11:41:45.367598Z",
     "start_time": "2020-10-23T11:41:45.340588Z"
    }
   },
   "outputs": [],
   "source": [
    "def normalize(vec):\n",
    "    \"\"\"normalize a vector\"\"\"\n",
    "    vec = np.asarray(vec)\n",
    "    return vec/np.linalg.norm(vec)\n",
    "\n",
    "def getCameraVec(camera_pos=(2, 2, 2), lookat=(0, 0, 0), up=(0, 0, 1)):\n",
    "    \"\"\"\n",
    "    compute camera vector. \n",
    "    ref: http://www.songho.ca/opengl/gl_camera.html\n",
    "    input:\n",
    "        camera_pos: position of the camera\n",
    "        lookat: position of the target\n",
    "        up: camera up vector, usually pointing towards +z\n",
    "    \"\"\"\n",
    "    camera_pos = np.asarray(camera_pos)\n",
    "    lookat = np.asarray(lookat)\n",
    "    up = np.asarray(up)\n",
    "    front = camera_pos - lookat\n",
    "    zoom = np.linalg.norm(front)\n",
    "    front = normalize(front)\n",
    "    left = normalize(np.cross(up, front))\n",
    "    up = normalize(np.cross(front, left))\n",
    "    return zoom,front, lookat, up\n",
    "\n",
    "def setView(ctr,camera_pos=(2, 2, 2), lookat=(0, 0, 0), up=(0, 0, 1)):\n",
    "    \"\"\"\n",
    "    set the view given a view control handel ctr\n",
    "    \"\"\"\n",
    "    zoom,front, lookat, up = getCameraVec(camera_pos=(1, 1, 1), lookat=(0, 0, 0), up=(0, 0, 1))\n",
    "    ctr.set_constant_z_far(100) # camera z far clip plane\n",
    "    ctr.set_constant_z_near(0.01)# camera z near clip plane\n",
    "    ctr.set_front(front)\n",
    "    ctr.set_lookat(lookat)\n",
    "    ctr.set_up(up)\n",
    "    ctr.set_zoom(zoom)\n",
    "    \n",
    "def customVisualization(geomtry_list):\n",
    "    \"\"\"\n",
    "    helper function to create a visualization given a list of o3d geometry\n",
    "    \"\"\"\n",
    "    vis = o3d.visualization.Visualizer()\n",
    "    vis.create_window()\n",
    "    for g in geomtry_list:\n",
    "        vis.add_geometry(g)\n",
    "    ctr = vis.get_view_control()\n",
    "    setView(ctr)\n",
    "    vis.run()\n",
    "    vis.destroy_window() # close the window when finished"
   ]
  },
  {
   "cell_type": "code",
   "execution_count": 4,
   "metadata": {
    "ExecuteTime": {
     "end_time": "2020-10-23T11:42:16.787696Z",
     "start_time": "2020-10-23T11:41:48.290613Z"
    }
   },
   "outputs": [],
   "source": [
    "def create_grid(bounds=[[-1, -1, -1], [1, 1, 1]], dr=0.1):\n",
    "    \"\"\"\n",
    "    retrun a grid of points shaped (n,3) given bounds and discritization radius\n",
    "    the bounds are updated and also returned\n",
    "    input:\n",
    "        bounds: [(x_low,y_low,z_low),(x_high,y_high,z_high)]\n",
    "        dr: discretization radius of the grid\n",
    "    output:\n",
    "        xyz_grid: a grid of points numpy array of (n,3)\n",
    "        bounds: updated bounds\n",
    "        nx,ny,nz: number of points in x,y,z direction\n",
    "    \"\"\"\n",
    "    # round to integer, type is still float\n",
    "    bounds = bounds/dr\n",
    "    bounds = np.stack((np.floor(bounds[0]), np.ceil(bounds[1])))*dr\n",
    "#     print(\"bounds=\\n\", bounds)\n",
    "    # number of points in x,y,z direction:(nx,ny,nz)\n",
    "    nx, ny, nz = np.ceil((bounds[1]-bounds[0])/dr).astype(int)+1\n",
    "    x = np.linspace(bounds[0, 0], bounds[0, 0]+(nx-1)*dr, num=nx)\n",
    "    y = np.linspace(bounds[0, 1], bounds[0, 1]+(ny-1)*dr, num=ny)\n",
    "    z = np.linspace(bounds[0, 2], bounds[0, 2]+(nz-1)*dr, num=nz)\n",
    "    # a flattened grid of xyzs of the vertices\n",
    "    xyz_grid = np.stack(np.meshgrid(x, y, z), axis=-1).reshape((-1, 3))\n",
    "    return xyz_grid, bounds, (nx, ny, nz)\n",
    "\n",
    "\n",
    "def create_plane(r=5, dr=0.1):\n",
    "    \"\"\"\n",
    "    return a plane located at (0,0,0),and with plane normal = (0,0,1)\n",
    "    r: radius of the plane\n",
    "    dr:discretization radius of the grid\n",
    "    \"\"\"\n",
    "    bounds = np.stack((np.floor([-r, -r, 0]), np.ceil([r, r, 0])))\n",
    "    nx, ny, nz = np.ceil((bounds[1]-bounds[0])/dr).astype(int)+1\n",
    "\n",
    "    xyz = np.reshape([[[[i, j, 0], [i+1, j, 0], [i, j+1, 0],\n",
    "                       [i, j+1, 0], [i+1, j, 0], [i+1, j+1, 0]] for i in range(nx-1)] for j in range(ny-1)], (-1, 3))\n",
    "    xyz = (xyz - ((nx-1)/2,(ny-1)/2,0))*dr\n",
    "#     xyz, bounds, (nx, ny, nz) = create_grid(bounds, dr)\n",
    "#     print(nx, ny, nz)\n",
    "    triangles = np.arange(xyz.shape[0]).reshape((-1,3))\n",
    "    plane = o3d.geometry.TriangleMesh(o3d.utility.Vector3dVector(\n",
    "        xyz), o3d.utility.Vector3iVector(triangles))\n",
    "    # assign checkerboard color pattern\n",
    "    c0 = (0.729, 0.78, 0.655) # first color\n",
    "    c1 = (0.533, 0.62, 0.506) # second color\n",
    "    colors = np.reshape([[np.tile(c0 if (i+j)%2 else c1,(6,1)) for i in range(nx-1)] for j in range(ny-1)],(-1,3))\n",
    "    plane.vertex_colors = o3d.utility.Vector3dVector(colors)\n",
    "    plane.compute_triangle_normals()\n",
    "    return plane\n",
    "\n",
    "# create a plane\n",
    "plane = create_plane()\n",
    "# create a coordinate frame\n",
    "coord_frame = o3d.geometry.TriangleMesh.create_coordinate_frame(size=0.1, origin=[0, 0, 0])\n",
    "\n",
    "# o3d.visualization.draw_geometries([plane, coord_frame],mesh_show_wireframe=True)\n",
    "#customVisualization([plane, coord_frame])"
   ]
  },
  {
   "cell_type": "code",
   "execution_count": 5,
   "metadata": {},
   "outputs": [],
   "source": [
    "### My Code Below"
   ]
  },
  {
   "cell_type": "code",
   "execution_count": 6,
   "metadata": {},
   "outputs": [],
   "source": [
    "T = 0\n",
    "gravity = np.array([0,0,-9.81])\n",
    "dt = 0.00001\n",
    "kg = 100000\n",
    "#bouncing k\n",
    "#ks = 10000\n",
    "damping = 0.9900\n",
    "m = 1\n",
    "mus = 1\n",
    "muk = 0.8\n",
    "population_size = 30\n"
   ]
  },
  {
   "cell_type": "code",
   "execution_count": 7,
   "metadata": {},
   "outputs": [],
   "source": [
    "dt_b = 0.0001"
   ]
  },
  {
   "cell_type": "code",
   "execution_count": 8,
   "metadata": {},
   "outputs": [],
   "source": [
    "spring_type = {}\n",
    "# spring type = [k, b, c]\n",
    "#spring_type[1] = [5000.0, 0.001, math.pi/2]\n",
    "#spring_type[2] = [20000.0, 0.002, math.pi/2]\n",
    "#spring_type[3] = [10000.0, 0.001, 0]\n",
    "#spring_type[4] = [5000.0, 0.002, math.pi]\n",
    "\n",
    "spring_type[1] = [1000.0, 0, 0]\n",
    "spring_type[2] = [25000.0, 0, 0]\n",
    "spring_type[3] = [5000.0, 0.001, 0]\n",
    "spring_type[4] = [5000.0, 0.001, math.pi]\n",
    "\n"
   ]
  },
  {
   "cell_type": "code",
   "execution_count": 9,
   "metadata": {},
   "outputs": [
    {
     "name": "stdout",
     "output_type": "stream",
     "text": [
      "{1: [1000.0, 0, 0], 2: [25000.0, 0, 0], 3: [5000.0, 0.001, 0], 4: [5000.0, 0.001, 3.141592653589793]}\n"
     ]
    }
   ],
   "source": [
    "print(spring_type)"
   ]
  },
  {
   "cell_type": "code",
   "execution_count": 87,
   "metadata": {},
   "outputs": [],
   "source": [
    "class mass:\n",
    "    def __init__(self, n):\n",
    "        self.mass = np.zeros((n,1), dtype=np.float64)\n",
    "        self.position = np.zeros((n,3), dtype=np.float64)\n",
    "        self.velocity = np.zeros((n,3), dtype=np.float64)\n",
    "        self.acceleration = np.zeros((n,3), dtype=np.float64)\n",
    "        self.internalforce = np.zeros((n,3), dtype=np.float64)\n",
    "        self.externalforce = np.zeros((n,3), dtype=np.float64)"
   ]
  },
  {
   "cell_type": "code",
   "execution_count": 88,
   "metadata": {},
   "outputs": [],
   "source": [
    "class spring:\n",
    "    def __init__(self, n):\n",
    "        self.coe =  np.zeros((n,1), dtype=np.int32)\n",
    "        self.length =  np.zeros((n,1), dtype=np.float64)\n",
    "        self.idx = np.zeros((n,2), dtype=np.int32)\n",
    "        # add spring type, type number saved in dictionary \n",
    "        self.type = [0] * n"
   ]
  },
  {
   "cell_type": "code",
   "execution_count": 214,
   "metadata": {},
   "outputs": [],
   "source": [
    "def get_points(position_matrix, Vertexs):\n",
    "    for i in range(len(position_matrix)):\n",
    "        Vertexs.mass[i] = 0.1\n",
    "        Vertexs.position[i] = position_matrix[i].copy()\n",
    "    \n",
    "def get_edges(Vertexs, Edges\n",
    "             ):    \n",
    "    idx = 0\n",
    "    for i in range(len(Vertexs.mass) - 1):\n",
    "        first_poisiton = Vertexs.position[i]\n",
    "        for j in range(i + 1, len(Vertexs.mass)):\n",
    "            secondposition = Vertexs.position[j]\n",
    "            distance = np.linalg.norm(first_poisiton - secondposition)\n",
    "            #Edges.coe[idx] = ks\n",
    "            Edges.length[idx] = distance\n",
    "            Edges.idx[idx] = [i,j]\n",
    "            # randomly assign spring types\n",
    "            Edges.type[idx] = random.randint(1, 5)\n",
    "            idx += 1 "
   ]
  },
  {
   "cell_type": "code",
   "execution_count": 215,
   "metadata": {},
   "outputs": [],
   "source": [
    "def centroid(points):\n",
    "    x_coords = np.average(points.position[:,0])\n",
    "    y_coords = np.average(points.position[:,1])\n",
    "    #z_coords = np.average(points.position[:,2])\n",
    "\n",
    "    return np.linalg.norm((x_coords, y_coords))"
   ]
  },
  {
   "cell_type": "code",
   "execution_count": 216,
   "metadata": {},
   "outputs": [],
   "source": [
    "def bouncing(time, springlist, Vertexs, Edges):\n",
    "    \n",
    "    for j in range(len(Edges.idx)):\n",
    "        t = springlist[j]\n",
    "        b, c, = spring_type[t][1], spring_type[t][2]\n",
    "        Edges.length[j] = b*(np.sin(1500*time + c) ) * Edges.length[j] + Edges.length[j]\n",
    "\n",
    "    for i in range(len(Vertexs.mass)):\n",
    "        for j in range(len(Edges.idx)):\n",
    "            if Edges.idx[j][0] != i:\n",
    "                continue\n",
    "            h = springlist[j]\n",
    "            ks = spring_type[h][0]\n",
    "            first_idx, second_idx = Edges.idx[j][0], Edges.idx[j][1]\n",
    "            first_idx_distance = Vertexs.position[Edges.idx[j][1]] - Vertexs.position[i]\n",
    "            second_idx_distance = Vertexs.position[i] - Vertexs.position[Edges.idx[j][1]]\n",
    "            distance_norm = np.linalg.norm((second_idx_distance))\n",
    "            deltal = distance_norm - Edges.length[j]           \n",
    "            Force_scalar = ks * deltal\n",
    "            \n",
    "            Vertexs.internalforce[first_idx] += Force_scalar * normalize(first_idx_distance)\n",
    "            Vertexs.internalforce[second_idx] += Force_scalar * normalize(second_idx_distance)\n",
    "            \n",
    "        Vertexs.externalforce[i] += Vertexs.mass[i] * gravity\n",
    "        totalforce = Vertexs.internalforce[i] + Vertexs.externalforce[i]\n",
    "        if Vertexs.position[i][2] <= 0:\n",
    "            FH = np.sqrt( np.square(totalforce[0]) + np.square(totalforce[1]) )\n",
    "            FY = totalforce[2]\n",
    "            if FH <= abs(FY * mus):\n",
    "                Vertexs.velocity[i][0], Vertexs.velocity[i][1] = 0.0, 0.0\n",
    "            else:\n",
    "                totalforce[0] -= totalforce[0] / FH * abs(FY * muk)\n",
    "                totalforce[1] -= totalforce[1]/ FH * abs(FY * muk)\n",
    "            totalforce += kg * np.array([0,0,-Vertexs.position[i][2]])\n",
    "            #totalforce *= 0.9\n",
    "            \n",
    "        Vertexs.acceleration[i] = (totalforce) / Vertexs.mass[i]\n",
    "        Vertexs.velocity[i] += Vertexs.acceleration[i] * dt_b \n",
    "        Vertexs.velocity[i] = Vertexs.velocity[i] * damping\n",
    "        Vertexs.position[i] += Vertexs.velocity[i]*dt_b \n",
    "        Vertexs.internalforce[i] = np.array([0,0,0])\n",
    "        Vertexs.externalforce[i] = np.array([0,0,0])\n",
    "            \n",
    "    return       \n",
    "        \n",
    "      "
   ]
  },
  {
   "cell_type": "code",
   "execution_count": 217,
   "metadata": {},
   "outputs": [],
   "source": [
    "# 下面两个是 选择的function："
   ]
  },
  {
   "cell_type": "code",
   "execution_count": 218,
   "metadata": {},
   "outputs": [],
   "source": [
    "\n",
    "def wheelselection(ordered_map):\n",
    "    pp=[]\n",
    "    p=[]\n",
    "    possible=0.3\n",
    "    for i in range(population_size):\n",
    "        pp.append((possible*(pow((1-possible),(i-1)))))\n",
    "        bigger=2*pp[i]\n",
    "        p.append(bigger)\n",
    "        \n",
    "    randnum=random.random()\n",
    "    if randnum > p[1]:\n",
    "        parent_id=ordered_map[0][1]\n",
    "        move_id=ordered_map[0][2]\n",
    "    elif randnum > p[2] and randnum < p[1]:\n",
    "        parent_id=ordered_map[1][1]\n",
    "        move_id=ordered_map[1][2]\n",
    "    elif randnum > p[3] and randnum <p[2]:\n",
    "        parent_id=ordered_map[2][1]\n",
    "        move_id=ordered_map[2][2]\n",
    "    elif randnum > p[4] and randnum <p[3]:\n",
    "        parent_id=ordered_map[3][1]\n",
    "        move_id=ordered_map[3][2]\n",
    "    elif randnum > p[5] and randnum <p[4]:\n",
    "        parent_id=ordered_map[4][1]\n",
    "        move_id=ordered_map[4][2]\n",
    "    elif randnum > p[6] and randnum <p[5]:\n",
    "        parent_id=ordered_map[5][1]\n",
    "        move_id=ordered_map[5][2]\n",
    "    elif randnum > p[7] and randnum <p[6]:\n",
    "        parent_id=ordered_map[6][1]\n",
    "        move_id=ordered_map[6][2]\n",
    "    elif randnum > p[8] and randnum <p[7]:\n",
    "        parent_id=ordered_map[7][1]\n",
    "        move_id=ordered_map[7][2]\n",
    "    elif randnum > p[9] and randnum <p[8]:\n",
    "        parent_id=ordered_map[8][1]\n",
    "        move_id=ordered_map[8][2]\n",
    "    elif randnum > p[10] and randnum <p[9]:\n",
    "        parent_id=ordered_map[9][1]\n",
    "        move_id=ordered_map[9][2]\n",
    "    elif randnum > p[11] and randnum <p[10]:\n",
    "        parent_id=ordered_map[10][1]\n",
    "        move_id=ordered_map[10][2]\n",
    "    elif randnum > p[12] and randnum <p[11]:\n",
    "        parent_id=ordered_map[11][1]\n",
    "        move_id=ordered_map[11][2]\n",
    "    elif randnum > p[13] and randnum <p[12]:\n",
    "        parent_id=ordered_map[12][1]\n",
    "        move_id=ordered_map[12][2]\n",
    "    elif randnum > p[14] and randnum <p[13]:\n",
    "        parent_id=ordered_map[13][1]\n",
    "        move_id=ordered_map[13][2]\n",
    "    elif randnum > p[15] and randnum <p[14]:\n",
    "        parent_id=ordered_map[14][1]\n",
    "        move_id=ordered_map[14][2]\n",
    "    elif randnum > p[16] and randnum <p[15]:\n",
    "        parent_id=ordered_map[15][1]\n",
    "        move_id=ordered_map[15][2]\n",
    "    elif randnum > p[17] and randnum <p[16]:\n",
    "        parent_id=ordered_map[16][1]\n",
    "        move_id=ordered_map[16][2]\n",
    "    elif randnum > p[18] and randnum <p[17]:\n",
    "        parent_id=ordered_map[17][1]\n",
    "        move_id=ordered_map[17][2]\n",
    "    elif randnum > p[19] and randnum <p[18]:\n",
    "        parent_id=ordered_map[18][1]\n",
    "        move_id=ordered_map[18][2]\n",
    "    else:\n",
    "        parent_id=ordered_map[19][1]\n",
    "        move_id=ordered_map[19][2]\n",
    "    \n",
    "        \n",
    "    offspring=parent_id\n",
    "    newposition = move_id\n",
    "    \n",
    "    return offspring, newposition"
   ]
  },
  {
   "cell_type": "code",
   "execution_count": 219,
   "metadata": {},
   "outputs": [],
   "source": [
    "def top50_selection(processed_list, population):\n",
    "    selectedpop=[]\n",
    "    lst=[]\n",
    "    c=sorted(processed_list)\n",
    "    d=c[0:15]\n",
    "    d=np.array(d)\n",
    "    for i in range(population_size):\n",
    "        if processed_list[i] > d.all():\n",
    "            selectedpop.append(population[i])\n",
    "    R=np.random.randint(15)\n",
    "    selectedpop=np.array(selectedpop)\n",
    "    lst=selectedpop(R)\n",
    "    return lst"
   ]
  },
  {
   "cell_type": "code",
   "execution_count": 243,
   "metadata": {},
   "outputs": [],
   "source": [
    "def mutation(springlist):\n",
    "    cur = random.randint(1, 4)\n",
    "    target = random.randint(1,4)\n",
    "    \n",
    "    for i in range(len(springlist)):\n",
    "        if springlist[i] == cur:\n",
    "            springlist[i] = target\n",
    "            \n",
    "    return springlist"
   ]
  },
  {
   "cell_type": "code",
   "execution_count": 244,
   "metadata": {},
   "outputs": [],
   "source": [
    "def mutation_position(position):\n",
    "    #n\n",
    "    idx = random.randint(0, len(position)-1)\n",
    "    if position[idx][2] == 0.0:\n",
    "        for i in range(len(position[idx]) - 1):\n",
    "            p = random.random()\n",
    "            if p >= 0.5:\n",
    "                position[idx][i] = random.uniform(0.01, 0.04)\n",
    "    else:\n",
    "        for i in range(len(position[idx])):\n",
    "            p = random.random()\n",
    "            if p >= 0.5:\n",
    "                position[idx][i] = random.uniform(0.01, 0.04)   \n",
    "    return position"
   ]
  },
  {
   "cell_type": "code",
   "execution_count": 255,
   "metadata": {},
   "outputs": [],
   "source": [
    "def mutation_numbermass(individual,offspring1):\n",
    "    if len(individual) < 8:\n",
    "        x=random.uniform(0.01, 0.04)\n",
    "        y=random.uniform(0.01, 0.04)\n",
    "        z=random.uniform(0.01, 0.04)\n",
    "        newpoistion=[x, y, z]\n",
    "        individual.append(newpoistion)\n",
    "        numberx=len(individual)\n",
    "        changelengt=(numberx*(numberx-1))//2\n",
    "        numl=len(offspring1)\n",
    "        addlength=changelengt-numl\n",
    "        \n",
    "        for i in range(addlength):\n",
    "            idx = random.randint(1, 4)\n",
    "            offspring1.append(idx)\n",
    "        return"
   ]
  },
  {
   "cell_type": "code",
   "execution_count": 256,
   "metadata": {},
   "outputs": [],
   "source": [
    "def crossover(lst1, lst2):\n",
    "    #idx = random.randint(17, 27)\n",
    "    idx = random.randint(0, 6)\n",
    "    offspring1 = lst2[:idx] + lst1[idx:]\n",
    "    offspring2 = lst1[:idx] + lst2[idx:]\n",
    "    \n",
    "    return offspring1, offspring2"
   ]
  },
  {
   "cell_type": "code",
   "execution_count": 257,
   "metadata": {},
   "outputs": [],
   "source": [
    "def diversity(population):\n",
    "    visited = set()\n",
    "    total = len(population)\n",
    "    for i in range(len(population)):\n",
    "        if tuple(population[i]) in visited:\n",
    "            total -= 1 \n",
    "        visited.add(tuple(population[i]))\n",
    "    return total"
   ]
  },
  {
   "cell_type": "code",
   "execution_count": 258,
   "metadata": {},
   "outputs": [],
   "source": [
    "def diff_population(processed_list):\n",
    "    dotp=[]\n",
    "    dotp=processed_list\n",
    "    dotp=list(set(dotp))\n",
    "    return dotp"
   ]
  },
  {
   "cell_type": "code",
   "execution_count": 259,
   "metadata": {},
   "outputs": [],
   "source": [
    "# 我设置了0.1秒， 每个population跑0.1， centriod fuction是计算中心的， 每次和开始的中心距离作对比\n",
    "def calculatefitness(springlist, bouncing_position):\n",
    "    T = 0\n",
    "    Vertexs = mass( len(bouncing_position) )\n",
    "    Edges = spring( (len(bouncing_position) * (len(bouncing_position) - 1)) // 2)\n",
    "    get_points(bouncing_position, Vertexs)\n",
    "    get_edges(Vertexs,Edges )\n",
    "    Initial = centroid(Vertexs)\n",
    "    while  T < 0.02:\n",
    "        bouncing(T, springlist, Vertexs, Edges)\n",
    "        T += dt_b\n",
    "    distance = abs(centroid(Vertexs) - Initial)\n",
    "    return distance"
   ]
  },
  {
   "cell_type": "code",
   "execution_count": 260,
   "metadata": {},
   "outputs": [],
   "source": [
    "Initial_position =  [[0.025,0.025,0.0],\n",
    "                      [0.025,0,0.0],\n",
    "                      [0,0,0.0],\n",
    "                      [0,0.025,0.0],\n",
    "                      [0.0125, 0.0125, 0.025]]"
   ]
  },
  {
   "cell_type": "code",
   "execution_count": 261,
   "metadata": {},
   "outputs": [],
   "source": [
    "from copy import deepcopy\n",
    "population_size = 20\n",
    "population = []\n",
    "moving_position = []\n",
    "for _ in range(population_size):\n",
    "    springcollection = []\n",
    "    for _ in range(10):\n",
    "        idx = random.randint(1, 4)\n",
    "        springcollection.append(idx)\n",
    "    population.append(springcollection)\n",
    "    moving_position.append(deepcopy(Initial_position))\n",
    "#print(population)"
   ]
  },
  {
   "cell_type": "code",
   "execution_count": 262,
   "metadata": {
    "scrolled": true
   },
   "outputs": [
    {
     "name": "stdout",
     "output_type": "stream",
     "text": [
      "0\n",
      "1\n",
      "2\n",
      "3\n",
      "4\n",
      "5\n",
      "6\n",
      "7\n",
      "8\n",
      "9\n"
     ]
    }
   ],
   "source": [
    "    \n",
    "runtimes=5\n",
    "fitness=0\n",
    "fitness = []\n",
    "D = []\n",
    "get_dot=[]\n",
    "dt_b = 0.0001\n",
    "for i in range(10):\n",
    "\n",
    "    \n",
    "    \n",
    "    #moving_position = [[0.025,0.025,0.0],\n",
    "    #                  [0.025,0,0.0],\n",
    "    #                  [0,0,0.0],\n",
    "    #                  [0,0.025,0.0],\n",
    "    #                   [0.0125, 0.0125, 0.025]]\n",
    "    \n",
    "    num_cores = multiprocessing.cpu_count()\n",
    "    processed_list = Parallel(n_jobs=num_cores)(delayed(calculatefitness)(population[i], moving_position[i] ) for i in range(len(population)))\n",
    "    mapping = list(zip(processed_list, population, moving_position))\n",
    "    ttordered_map = sorted(mapping, key = lambda x: x[0], reverse = True)\n",
    "    fitness.append(ttordered_map[0][0])\n",
    "    linkage=ttordered_map[0][1]\n",
    "    point_position=ttordered_map[0][2]\n",
    "    dotp=diff_population(processed_list)\n",
    "\n",
    "        \n",
    "    population = []\n",
    "    moving_position=[]\n",
    "    for sequence in ttordered_map[:6]:\n",
    "        population.append(sequence[1].copy())\n",
    "        moving_position.append(deepcopy(sequence[2]))\n",
    "        \n",
    "  \n",
    "    ##----------------------------------------------\n",
    "    ##----------------------------------------------changed code below\n",
    "   \n",
    "    ordered_map=ttordered_map[:]\n",
    "           \n",
    "    for j in range(7):\n",
    "        \n",
    "        #selection50%\n",
    "        #offspring1 = top50_selection(processed_list, population)\n",
    "        #offspring2 = top50_selection(processed_list, population)\n",
    "        \n",
    "        # wheelselection \n",
    "        offspring1, MovingP1 = wheelselection(deepcopy(ordered_map))\n",
    "        offspring2, MovingP2 = wheelselection(deepcopy(ordered_map))\n",
    "        #print(id(MovingP1[2]))\n",
    "        #print(id(MovingP2[2]))\n",
    "        \n",
    "        offspring1, offspring2  = crossover(offspring1, offspring2)\n",
    "        \n",
    "        offspring1 = mutation(offspring1)\n",
    "        offspring2 = mutation(offspring2)\n",
    "                \n",
    "        P1 = mutation_position(deepcopy(MovingP1))\n",
    "        P2 = mutation_position(deepcopy(MovingP2))\n",
    "        \n",
    "        \n",
    "        changerate=0.5\n",
    "        changenumber=random.random()\n",
    "        if changerate >= changenumber:\n",
    "            mutation_numbermass(P1,offspring1)\n",
    "        else:\n",
    "            mutation_numbermass(P2,offspring2)\n",
    "        \n",
    "        #change=random.\n",
    "        \n",
    "        \n",
    "\n",
    "        #print(P1)  \n",
    "        #print('-----------------------------------')\n",
    "        #print(P2) \n",
    "        \n",
    "        population.append(offspring1)\n",
    "        population.append(offspring2)\n",
    "        moving_position.append(deepcopy(P1))\n",
    "        moving_position.append(deepcopy(P2))\n",
    "    ##----------------------------------------------\n",
    "    ##----------------------------------------------changed code above\n",
    "    \n",
    "    #for x in range(2):\n",
    "        \n",
    "    \n",
    "    \n",
    "    #for z in range(2):\n",
    "       # n=np.randint(3,8)\n",
    "        #totalposition=[]\n",
    "        #for i in range(n):\n",
    "            #newpoistion=[]\n",
    "            #x=random.uniform(0.01, 0.04)\n",
    "           # y=random.uniform(0.01, 0.04)\n",
    "           # z=random.uniform(0.01, 0.04)\n",
    "            #newpoistion=[[x],[y],[z]]\n",
    "            #totalposition.append(newposition)\n",
    "       # moving_position.append(totalposition)\n",
    "    \n",
    "    d = diversity(population.copy())\n",
    "    D.append(d)\n",
    "    print(i)\n",
    "#print(moving_position)"
   ]
  },
  {
   "cell_type": "code",
   "execution_count": 263,
   "metadata": {},
   "outputs": [
    {
     "name": "stdout",
     "output_type": "stream",
     "text": [
      "[4, 3, 4, 3, 4, 3, 3, 3, 4, 3, 4, 3, 3, 3, 3, 3, 3, 3, 3, 4, 4, 4, 3, 3, 4, 3, 3, 3]\n",
      "[4, 3, 3, 3, 4, 3, 3, 3, 4, 3, 4, 3, 3, 3, 3, 3, 3, 3, 3, 4, 4, 4, 3, 3, 4, 3, 3, 3]\n",
      "[4, 3, 3, 3, 4, 3, 3, 3, 4, 3, 4, 3, 3, 3, 3, 3, 3, 3, 3, 4, 4, 4, 3, 3, 4, 3, 3, 3]\n",
      "[4, 3, 3, 3, 4, 3, 3, 3, 4, 3, 4, 3, 3, 3, 3, 3, 3, 3, 3, 4, 4, 4, 3, 3, 4, 3, 3, 3]\n",
      "[4, 3, 3, 3, 4, 3, 3, 3, 4, 3, 4, 3, 3, 3, 3, 3, 3, 3, 3, 4, 4, 4, 3, 3, 4, 3, 3, 3]\n",
      "[4, 3, 3, 3, 4, 3, 3, 3, 4, 3, 4, 3, 3, 3, 3, 3, 3, 3, 3, 4, 4, 4, 3, 3, 4, 3, 3, 3]\n",
      "[4, 3, 3, 3, 4, 3, 3, 3, 4, 3, 4, 3, 3, 3, 3, 3, 3, 3, 3, 4, 4, 4, 3, 3, 4, 3, 3, 3]\n",
      "[2, 3, 3, 3, 2, 3, 3, 3, 2, 3, 2, 3, 3, 3, 3, 3, 3, 3, 3, 2, 2, 2, 3, 3, 2, 3, 3, 3]\n",
      "[1, 3, 3, 3, 1, 3, 3, 3, 1, 3, 1, 3, 3, 3, 3, 3, 3, 3, 3, 1, 1, 1, 3, 3, 1, 3, 3, 3]\n",
      "[2, 3, 3, 3, 2, 3, 3, 3, 2, 3, 2, 3, 3, 3, 3, 3, 3, 3, 3, 2, 2, 2, 3, 3, 2, 3, 3, 3]\n",
      "[4, 1, 1, 1, 4, 1, 1, 1, 4, 1, 4, 1, 1, 1, 1, 1, 1, 1, 1, 4, 4, 4, 1, 1, 4, 1, 1, 1]\n",
      "[4, 3, 3, 3, 4, 3, 3, 3, 4, 3, 4, 3, 3, 3, 3, 3, 3, 3, 3, 4, 4, 4, 3, 3, 4, 3, 3, 3]\n",
      "[4, 3, 3, 3, 4, 3, 3, 3, 4, 3, 4, 3, 3, 3, 3, 3, 3, 3, 3, 4, 4, 4, 3, 3, 4, 3, 3, 3]\n",
      "[1, 3, 1, 3, 1, 3, 3, 3, 1, 3, 1, 3, 3, 3, 3, 3, 3, 3, 3, 1, 1, 1, 3, 3, 1, 3, 3, 3]\n",
      "[4, 3, 3, 3, 4, 3, 3, 3, 4, 3, 4, 3, 3, 3, 3, 3, 3, 3, 3, 4, 4, 4, 3, 3, 4, 3, 3, 3]\n",
      "[4, 3, 4, 3, 4, 3, 3, 3, 4, 3, 4, 3, 3, 3, 3, 3, 3, 3, 3, 4, 4, 4, 3, 3, 4, 3, 3, 3]\n",
      "[4, 3, 3, 3, 4, 3, 3, 3, 4, 3, 4, 3, 3, 3, 3, 3, 3, 3, 3, 4, 4, 4, 3, 3, 4, 3, 3, 3]\n",
      "[4, 2, 2, 2, 4, 2, 2, 2, 4, 2, 4, 2, 2, 2, 2, 2, 2, 2, 2, 4, 4, 4, 2, 2, 4, 2, 2, 2]\n",
      "[4, 3, 3, 3, 4, 3, 3, 3, 4, 3, 4, 3, 3, 3, 3, 3, 3, 3, 3, 4, 4, 4, 3, 3, 4, 3, 3, 3]\n",
      "[4, 3, 3, 3, 4, 3, 3, 3, 4, 3, 4, 3, 3, 3, 3, 3, 3, 3, 3, 4, 4, 4, 3, 3, 4, 3, 3, 3]\n"
     ]
    }
   ],
   "source": [
    "for i in range(len(population)):\n",
    "    print(population[i])"
   ]
  },
  {
   "cell_type": "code",
   "execution_count": 264,
   "metadata": {},
   "outputs": [
    {
     "name": "stdout",
     "output_type": "stream",
     "text": [
      "8\n",
      "8\n",
      "8\n",
      "8\n",
      "8\n",
      "8\n",
      "8\n",
      "8\n",
      "8\n",
      "8\n",
      "8\n",
      "8\n",
      "8\n",
      "8\n",
      "8\n",
      "8\n",
      "8\n",
      "8\n",
      "8\n",
      "8\n"
     ]
    }
   ],
   "source": [
    "for i in range(len(moving_position)):\n",
    "    print(len(moving_position[i]))"
   ]
  },
  {
   "cell_type": "code",
   "execution_count": 265,
   "metadata": {
    "scrolled": true
   },
   "outputs": [
    {
     "name": "stdout",
     "output_type": "stream",
     "text": [
      "[8.617829019355941e-05, 0.00012680145356852926, 0.0002352199340229337, 0.0002352199340229337, 0.0002536699319191024, 0.0002536699319191024, 0.0002817196902809953, 0.0002817196902809953, 0.0002817196902809953, 0.0002997636175455995]\n"
     ]
    }
   ],
   "source": [
    "print(fitness)"
   ]
  },
  {
   "cell_type": "code",
   "execution_count": 288,
   "metadata": {},
   "outputs": [
    {
     "name": "stdout",
     "output_type": "stream",
     "text": [
      "[4, 3, 4, 3, 4, 3, 3, 3, 4, 3, 4, 3, 3, 3, 3, 3, 3, 3, 3, 4, 4, 4, 3, 3, 4, 3, 3, 3]\n"
     ]
    }
   ],
   "source": [
    "print(linkage)"
   ]
  },
  {
   "cell_type": "code",
   "execution_count": 289,
   "metadata": {},
   "outputs": [
    {
     "name": "stdout",
     "output_type": "stream",
     "text": [
      "[[4, 3, 4, 3, 4, 3, 3, 3, 4, 3, 4, 3, 3, 3, 3, 3, 3, 3, 3, 4, 4, 4, 3, 3, 4, 3, 3, 3], [4, 3, 3, 3, 4, 3, 3, 3, 4, 3, 4, 3, 3, 3, 3, 3, 3, 3, 3, 4, 4, 4, 3, 3, 4, 3, 3, 3], [4, 3, 3, 3, 4, 3, 3, 3, 4, 3, 4, 3, 3, 3, 3, 3, 3, 3, 3, 4, 4, 4, 3, 3, 4, 3, 3, 3], [4, 3, 3, 3, 4, 3, 3, 3, 4, 3, 4, 3, 3, 3, 3, 3, 3, 3, 3, 4, 4, 4, 3, 3, 4, 3, 3, 3], [4, 3, 3, 3, 4, 3, 3, 3, 4, 3, 4, 3, 3, 3, 3, 3, 3, 3, 3, 4, 4, 4, 3, 3, 4, 3, 3, 3], [4, 3, 3, 3, 4, 3, 3, 3, 4, 3, 4, 3, 3, 3, 3, 3, 3, 3, 3, 4, 4, 4, 3, 3, 4, 3, 3, 3], [4, 3, 3, 3, 4, 3, 3, 3, 4, 3, 4, 3, 3, 3, 3, 3, 3, 3, 3, 4, 4, 4, 3, 3, 4, 3, 3, 3], [2, 3, 3, 3, 2, 3, 3, 3, 2, 3, 2, 3, 3, 3, 3, 3, 3, 3, 3, 2, 2, 2, 3, 3, 2, 3, 3, 3], [1, 3, 3, 3, 1, 3, 3, 3, 1, 3, 1, 3, 3, 3, 3, 3, 3, 3, 3, 1, 1, 1, 3, 3, 1, 3, 3, 3], [2, 3, 3, 3, 2, 3, 3, 3, 2, 3, 2, 3, 3, 3, 3, 3, 3, 3, 3, 2, 2, 2, 3, 3, 2, 3, 3, 3], [4, 1, 1, 1, 4, 1, 1, 1, 4, 1, 4, 1, 1, 1, 1, 1, 1, 1, 1, 4, 4, 4, 1, 1, 4, 1, 1, 1], [4, 3, 3, 3, 4, 3, 3, 3, 4, 3, 4, 3, 3, 3, 3, 3, 3, 3, 3, 4, 4, 4, 3, 3, 4, 3, 3, 3], [4, 3, 3, 3, 4, 3, 3, 3, 4, 3, 4, 3, 3, 3, 3, 3, 3, 3, 3, 4, 4, 4, 3, 3, 4, 3, 3, 3], [1, 3, 1, 3, 1, 3, 3, 3, 1, 3, 1, 3, 3, 3, 3, 3, 3, 3, 3, 1, 1, 1, 3, 3, 1, 3, 3, 3], [4, 3, 3, 3, 4, 3, 3, 3, 4, 3, 4, 3, 3, 3, 3, 3, 3, 3, 3, 4, 4, 4, 3, 3, 4, 3, 3, 3], [4, 3, 4, 3, 4, 3, 3, 3, 4, 3, 4, 3, 3, 3, 3, 3, 3, 3, 3, 4, 4, 4, 3, 3, 4, 3, 3, 3], [4, 3, 3, 3, 4, 3, 3, 3, 4, 3, 4, 3, 3, 3, 3, 3, 3, 3, 3, 4, 4, 4, 3, 3, 4, 3, 3, 3], [4, 2, 2, 2, 4, 2, 2, 2, 4, 2, 4, 2, 2, 2, 2, 2, 2, 2, 2, 4, 4, 4, 2, 2, 4, 2, 2, 2], [4, 3, 3, 3, 4, 3, 3, 3, 4, 3, 4, 3, 3, 3, 3, 3, 3, 3, 3, 4, 4, 4, 3, 3, 4, 3, 3, 3], [4, 3, 3, 3, 4, 3, 3, 3, 4, 3, 4, 3, 3, 3, 3, 3, 3, 3, 3, 4, 4, 4, 3, 3, 4, 3, 3, 3]]\n"
     ]
    }
   ],
   "source": [
    "print(population)"
   ]
  },
  {
   "cell_type": "code",
   "execution_count": 290,
   "metadata": {},
   "outputs": [
    {
     "name": "stdout",
     "output_type": "stream",
     "text": [
      "[20, 18, 17, 19, 19, 13, 8, 7, 6, 7]\n"
     ]
    }
   ],
   "source": [
    "print(D)"
   ]
  },
  {
   "cell_type": "code",
   "execution_count": 291,
   "metadata": {},
   "outputs": [
    {
     "name": "stdout",
     "output_type": "stream",
     "text": [
      "[[0.021070760577750258, 0.010349212257700404, 0.0], [0.025, 0, 0.0], [0, 0, 0.0], [0.01940975370201881, 0.025, 0.0], [0.03311129374004002, 0.0125, 0.025], [0.03719994120907174, 0.020519253742647497, 0.0297120413651435], [0.03215636831318789, 0.02771681771928814, 0.0139184799430051], [0.034337848734023416, 0.03868678916171439, 0.017728704997043376]]\n"
     ]
    }
   ],
   "source": [
    "print(ttordered_map[0][2])"
   ]
  },
  {
   "cell_type": "code",
   "execution_count": 292,
   "metadata": {},
   "outputs": [
    {
     "name": "stdout",
     "output_type": "stream",
     "text": [
      "[]\n"
     ]
    }
   ],
   "source": [
    "print(get_dot)"
   ]
  },
  {
   "cell_type": "code",
   "execution_count": null,
   "metadata": {},
   "outputs": [],
   "source": [
    "\n"
   ]
  },
  {
   "cell_type": "code",
   "execution_count": 293,
   "metadata": {},
   "outputs": [
    {
     "data": {
      "text/plain": [
       "[4,\n",
       " 3,\n",
       " 4,\n",
       " 3,\n",
       " 4,\n",
       " 3,\n",
       " 3,\n",
       " 3,\n",
       " 4,\n",
       " 3,\n",
       " 4,\n",
       " 3,\n",
       " 3,\n",
       " 3,\n",
       " 3,\n",
       " 3,\n",
       " 3,\n",
       " 3,\n",
       " 3,\n",
       " 4,\n",
       " 4,\n",
       " 4,\n",
       " 3,\n",
       " 3,\n",
       " 4,\n",
       " 3,\n",
       " 3,\n",
       " 3]"
      ]
     },
     "execution_count": 293,
     "metadata": {},
     "output_type": "execute_result"
    }
   ],
   "source": [
    "linkage "
   ]
  },
  {
   "cell_type": "code",
   "execution_count": 294,
   "metadata": {},
   "outputs": [
    {
     "data": {
      "text/plain": [
       "[[0.021070760577750258, 0.010349212257700404, 0.0],\n",
       " [0.025, 0, 0.0],\n",
       " [0, 0, 0.0],\n",
       " [0.01940975370201881, 0.025, 0.0],\n",
       " [0.03311129374004002, 0.0125, 0.025],\n",
       " [0.03719994120907174, 0.020519253742647497, 0.0297120413651435],\n",
       " [0.03215636831318789, 0.02771681771928814, 0.0139184799430051],\n",
       " [0.034337848734023416, 0.03868678916171439, 0.017728704997043376]]"
      ]
     },
     "execution_count": 294,
     "metadata": {},
     "output_type": "execute_result"
    }
   ],
   "source": [
    "point_position"
   ]
  },
  {
   "cell_type": "code",
   "execution_count": 295,
   "metadata": {},
   "outputs": [],
   "source": [
    "Vertexs = mass( len(point_position) )\n",
    "Edges = spring( len(point_position) * (len(point_position) - 1) // 2)\n",
    "get_points(point_position, Vertexs)\n",
    "get_edges(Vertexs,Edges )"
   ]
  },
  {
   "cell_type": "code",
   "execution_count": 296,
   "metadata": {},
   "outputs": [
    {
     "name": "stdout",
     "output_type": "stream",
     "text": [
      "0.03038377542501824\n"
     ]
    }
   ],
   "source": [
    "initial_distance = centroid(Vertexs)\n",
    "print(initial_distance)"
   ]
  },
  {
   "cell_type": "code",
   "execution_count": 298,
   "metadata": {},
   "outputs": [],
   "source": [
    "pcd = o3d.geometry.PointCloud()\n",
    "pcd.points = o3d.utility.Vector3dVector(Vertexs.position)\n",
    "lsd = o3d.geometry.LineSet()\n",
    "lsd.points = o3d.utility.Vector3dVector(Vertexs.position) # (n by 3) arry of points xyzs\n",
    "#lsd_colors = (pcd_colors[edges[:,0]]+pcd_colors[edges[:,1]])/2\n",
    "#lsd.colors = o3d.utility.Vector3dVector(lsd_colors)\n",
    "lsd.lines = o3d.utility.Vector2iVector(Edges.idx)\n",
    "alpha = 0.03\n",
    "mesh = o3d.geometry.TriangleMesh.create_from_point_cloud_alpha_shape(pcd, alpha)\n",
    "#mesh.compute_vertex_normals()\n",
    "#customVisualization([pcd, lsd, coord_frame,plane])"
   ]
  },
  {
   "cell_type": "code",
   "execution_count": 299,
   "metadata": {},
   "outputs": [],
   "source": [
    "dt_b = 0.0003"
   ]
  },
  {
   "cell_type": "code",
   "execution_count": 300,
   "metadata": {},
   "outputs": [],
   "source": [
    "def NonBlockingVisualization(kinetic, potential, springE):\n",
    "    \"\"\"\n",
    "    example for the non-blocking visualization\n",
    "    \"\"\"    \n",
    "    ended=False\n",
    "    def signalEnd(vis):\n",
    "        nonlocal ended\n",
    "        ended =True\n",
    "        \n",
    "    vis = o3d.visualization.VisualizerWithKeyCallback()\n",
    "    \n",
    "    # ref:https://www.glfw.org/docs/3.3/group__keys.html\n",
    "    # press key Q or ESC to close the window\n",
    "    vis.register_key_callback(81, signalEnd)# key Q \n",
    "    vis.register_key_callback(256, signalEnd)# key escape\n",
    "    vis.create_window()\n",
    "    \n",
    "    # change background to black\n",
    "    opt = vis.get_render_option()\n",
    "    opt.background_color = np.asarray([0, 0, 0])\n",
    "\n",
    "    # add geometry\n",
    "    for g in [pcd, lsd, coord_frame,plane]:\n",
    "        vis.add_geometry(g)\n",
    "        \n",
    "    # view control\n",
    "    ctr = vis.get_view_control()\n",
    "    setView(ctr)\n",
    "    T = 0\n",
    "     # previous time\n",
    "    t_prev = time.time()\n",
    "    count = 0\n",
    "    while (not ended):\n",
    "        bouncing(T, linkage, Vertexs, Edges)\n",
    "        count += 1\n",
    "        t = time.time()\n",
    "        if t - t_prev>1./30.:# update renderer\n",
    "            t_prev = t\n",
    "            lsd.points = o3d.utility.Vector3dVector(Vertexs.position)\n",
    "            vis.update_geometry(lsd)\n",
    "            pcd.points = o3d.utility.Vector3dVector(Vertexs.position)\n",
    "            vis.update_geometry(pcd)\n",
    "            vis.poll_events()\n",
    "            vis.update_renderer()\n",
    "        T += dt\n",
    "\n",
    "    vis.destroy_window() # close the window when finished\n",
    "    \n",
    "    return count"
   ]
  },
  {
   "cell_type": "code",
   "execution_count": 301,
   "metadata": {},
   "outputs": [
    {
     "data": {
      "text/plain": [
       "3955"
      ]
     },
     "execution_count": 301,
     "metadata": {},
     "output_type": "execute_result"
    }
   ],
   "source": [
    "### New code above\n",
    "NonBlockingVisualization([],[],[])\n"
   ]
  },
  {
   "cell_type": "code",
   "execution_count": null,
   "metadata": {},
   "outputs": [],
   "source": [
    "[3, 1, 3, 1, 4, 4, 3, 3, 1, 4, 3, 1, 4, 3, 4, 3, 3, 3, 3, 3, 4, 3, 3, 3, 3, 4, 4, 4]"
   ]
  },
  {
   "cell_type": "code",
   "execution_count": null,
   "metadata": {},
   "outputs": [],
   "source": [
    "Totalenergy = np.add(np.add(K,P), S)"
   ]
  },
  {
   "cell_type": "code",
   "execution_count": null,
   "metadata": {},
   "outputs": [],
   "source": []
  },
  {
   "cell_type": "code",
   "execution_count": null,
   "metadata": {},
   "outputs": [],
   "source": [
    "print(len(K))"
   ]
  },
  {
   "cell_type": "code",
   "execution_count": null,
   "metadata": {},
   "outputs": [],
   "source": [
    "plt.figure(figsize=(8,5))\n",
    "#plt.plot(K, label='kinetic')\n",
    "#plt.plot(P, label='potential')\n",
    "#plt.plot(S, label='spring')\n",
    "plt.plot(Totalenergy, label='Total')\n",
    "plt.xlabel('Time(10e-4)')\n",
    "plt.ylabel('Energy')\n",
    "plt.title('Time and Energy plot')\n",
    "plt.legend()\n",
    "print(K[:3])"
   ]
  },
  {
   "cell_type": "code",
   "execution_count": null,
   "metadata": {},
   "outputs": [],
   "source": []
  },
  {
   "cell_type": "code",
   "execution_count": null,
   "metadata": {},
   "outputs": [],
   "source": [
    "def breathing(time):  \n",
    "    SE = 0\n",
    "    PE = 0\n",
    "    KE = 0\n",
    "    \n",
    "    for i in range(len(Vertexs.mass)):\n",
    "        for j in range(len(Edges.idx)):\n",
    "            if Edges.idx[j][0] != i:\n",
    "                continue\n",
    "            first_idx, second_idx = Edges.idx[j][0], Edges.idx[j][1]\n",
    "            first_idx_distance = Vertexs.position[Edges.idx[j][1]] - Vertexs.position[i]\n",
    "            second_idx_distance = Vertexs.position[i] - Vertexs.position[Edges.idx[j][1]]\n",
    "            Edges.length[j] += 0.005*(np.sin(1000*time))\n",
    "            distance_norm = np.linalg.norm((first_idx_distance))\n",
    "            deltal = distance_norm - Edges.length[j]\n",
    "            SE += calculate_spring_energy(first_idx, deltal, ks)\n",
    "            SE += calculate_spring_energy(second_idx, deltal, ks)\n",
    "            Force_scalar = ks * deltal\n",
    "            Vertexs.internalforce[first_idx] += Force_scalar * normalize(first_idx_distance)\n",
    "            Vertexs.internalforce[second_idx] += Force_scalar * normalize(second_idx_distance)\n",
    "            \n",
    "        \n",
    "        Vertexs.acceleration[i] = (Vertexs.internalforce[i]) / Vertexs.mass[i]\n",
    "        Vertexs.velocity[i] += Vertexs.acceleration[i] * dt\n",
    "        Vertexs.position[i][:2]+= Vertexs.velocity[i][:2]*dt\n",
    "        Vertexs.internalforce[i] = np.array([0,0,0])    \n",
    "        P, K = calculate_energy(i)\n",
    "        PE += P\n",
    "        KE += K\n",
    "            \n",
    "    return SE, PE, KE  \n",
    "\n",
    "def calculate_energy(i):\n",
    "    Potential = Vertexs.mass[i] * 9.81 * Vertexs.position[i][2]\n",
    "    Kinectic = 0.5 * Vertexs.mass[i] * np.linalg.norm((Vertexs.velocity[i]))**2\n",
    "    \n",
    "    return Potential, Kinectic\n",
    "\n",
    "def calculate_spring_energy(idx, dl, ks):\n",
    "    Spring = 0.5 * ks * dl**2\n",
    "    return Spring"
   ]
  }
 ],
 "metadata": {
  "kernelspec": {
   "display_name": "Python 3",
   "language": "python",
   "name": "python3"
  },
  "language_info": {
   "codemirror_mode": {
    "name": "ipython",
    "version": 3
   },
   "file_extension": ".py",
   "mimetype": "text/x-python",
   "name": "python",
   "nbconvert_exporter": "python",
   "pygments_lexer": "ipython3",
   "version": "3.8.3"
  }
 },
 "nbformat": 4,
 "nbformat_minor": 4
}
